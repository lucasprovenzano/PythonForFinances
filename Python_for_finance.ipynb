{
  "nbformat": 4,
  "nbformat_minor": 0,
  "metadata": {
    "colab": {
      "name": "Python_for_finance.ipynb",
      "provenance": [],
      "authorship_tag": "ABX9TyNiTiLLv9HZMMz1yWEN6J/w",
      "include_colab_link": true
    },
    "kernelspec": {
      "name": "python3",
      "display_name": "Python 3"
    }
  },
  "cells": [
    {
      "cell_type": "markdown",
      "metadata": {
        "id": "view-in-github",
        "colab_type": "text"
      },
      "source": [
        "<a href=\"https://colab.research.google.com/github/lucasprovenzano/PythonForFinances/blob/main/Python_for_finance.ipynb\" target=\"_parent\"><img src=\"https://colab.research.google.com/assets/colab-badge.svg\" alt=\"Open In Colab\"/></a>"
      ]
    },
    {
      "cell_type": "code",
      "metadata": {
        "id": "FGMuPw5Fl5hC"
      },
      "source": [
        "import datetime as dt\n",
        "import matplotlib.pyplot as plt\n",
        "from matplotlib import style\n",
        "import pandas as pd\n",
        "import pandas_datareader.data as web"
      ],
      "execution_count": 1,
      "outputs": []
    },
    {
      "cell_type": "code",
      "metadata": {
        "colab": {
          "base_uri": "https://localhost:8080/"
        },
        "id": "6FpfT8C-ekKy",
        "outputId": "d7950ef5-c797-49ce-adfc-12608c5cbcb2"
      },
      "source": [
        "style.use('ggplot')\n",
        "\n",
        "start = dt.datetime(2000, 1, 1)\n",
        "end = dt.datetime(2016, 12, 31)\n",
        "\n",
        "df = web.DataReader('TSLA', 'yahoo', start, end)\n",
        "print(df.head())"
      ],
      "execution_count": 4,
      "outputs": [
        {
          "output_type": "stream",
          "text": [
            "             High    Low   Open  Close    Volume  Adj Close\n",
            "Date                                                       \n",
            "2010-06-29  5.000  3.508  3.800  4.778  93831500      4.778\n",
            "2010-06-30  6.084  4.660  5.158  4.766  85935500      4.766\n",
            "2010-07-01  5.184  4.054  5.000  4.392  41094000      4.392\n",
            "2010-07-02  4.620  3.742  4.600  3.840  25699000      3.840\n",
            "2010-07-06  4.000  3.166  4.000  3.222  34334500      3.222\n"
          ],
          "name": "stdout"
        }
      ]
    }
  ]
}